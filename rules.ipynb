{
 "cells": [
  {
   "cell_type": "markdown",
   "metadata": {},
   "source": [
    "# Embedding API"
   ]
  },
  {
   "cell_type": "markdown",
   "metadata": {},
   "source": [
    "## 1) Data Preprocessing"
   ]
  },
  {
   "cell_type": "code",
   "execution_count": 3,
   "metadata": {},
   "outputs": [],
   "source": [
    "from langchain_community import embeddings\n",
    "from langchain_ollama import ChatOllama\n",
    "from langchain_core.runnables import RunnablePassthrough\n",
    "from langchain_core.output_parsers import StrOutputParser\n",
    "from langchain_core.prompts  import ChatPromptTemplate"
   ]
  },
  {
   "cell_type": "code",
   "execution_count": 4,
   "metadata": {},
   "outputs": [],
   "source": [
    "model_local = ChatOllama(model='phi4')"
   ]
  },
  {
   "cell_type": "code",
   "execution_count": 5,
   "metadata": {},
   "outputs": [],
   "source": [
    "import json\n",
    "from pprint import pprint"
   ]
  },
  {
   "cell_type": "code",
   "execution_count": 6,
   "metadata": {},
   "outputs": [],
   "source": [
    "file1 = \"./data/20250201/parsed_rules_20250201.json\"\n",
    "\n",
    "with open(file1, \"r\", encoding=\"utf-8\") as file:\n",
    "    data = json.load(file)\n"
   ]
  },
  {
   "cell_type": "code",
   "execution_count": 16,
   "metadata": {},
   "outputs": [],
   "source": [
    "documents = []\n",
    "\n",
    "for ruleType in data.keys():\n",
    "    rules = data[ruleType]\n",
    "    for rule in rules:\n",
    "        page_content = rule\n",
    "        page_content[\"type\"] = ruleType\n",
    "    \n",
    "        newDocument = {\n",
    "            \"page_content\": json.dumps(page_content, ensure_ascii=False)}\n",
    "        documents.append(newDocument)\n",
    "    "
   ]
  },
  {
   "cell_type": "code",
   "execution_count": 17,
   "metadata": {},
   "outputs": [
    {
     "name": "stdout",
     "output_type": "stream",
     "text": [
      "{'page_content': '{\"title\": \"< 전 문 >\", \"content\": \"더불어민주당은 대한민국임시정부의 자주독립정신과 '\n",
      "                 '4·19혁명, 부마민주항쟁, 5·18민주화운동, 6·10민주항쟁, 촛불시민혁명의 민주주의 정신을 계승하고 '\n",
      "                 '서민과 중산층을 대변한다.\\\\n우리는 모든 사람이 공정하고 동등한 조건에서 자신의 역량을 발휘하는 정의로운 '\n",
      "                 '나라를 원한다. 사회경제적 양극화와 불평등을 극복하고 모든 사람의 기본적인 삶을 보장하는 기본사회를 원한다. '\n",
      "                 '계층, 세대, 성별, 지역 간 갈등을 해소하고 모든 국민이 조화롭게 살아가는 통합의 국가를 '\n",
      "                 '원한다.\\\\n대한민국은 대전환의 시대에 직면해 있다. 기후변화, 세계경제 침체, 국제적 대립 심화, '\n",
      "                 '인공지능·디지털 전환 가속화는 우리나라에 위기이자 도전으로 작용하고 있다. 이에 혁신성장을 중심으로 국가 '\n",
      "                 '재도약의 발판을 마련하고, 모든 사람의 평화롭고 더 나은 삶을 보장하는 것이 시대적 과제이다.\\\\n우리는 '\n",
      "                 '‘모두 함께 행복한 나라’를 꿈꾼다. 이를 실현하기 위해 ‘공정, 생명, 포용, 번영, 평화’의 5대 가치를 '\n",
      "                 '추구한다. 우리는 모든 사람이 차별 없이 평등한 기회를 갖는 공정한 사회, 모든 생명의 가치를 중시하는 '\n",
      "                 '안전한 사회, 사회적 약자를 존중하고 모든 사람의 보편복지를 추구하는 포용의 사회, 모든 사람이 더 풍요로운 '\n",
      "                 '삶을 누리는 번영의 나라, 한반도를 넘어 글로벌 평화를 선도하는 국가를 만들 것이다.\\\\n우리는 우리의 꿈과 '\n",
      "                 '가치를 위해 13개 정책목표를 수립하고 이행한다.\\\\n하나, ‘혁신성장과 민주적 시장경제’를 실현한다. '\n",
      "                 '미래에도 지속가능한 혁신생태계를 구축하고, 경제민주화를 완성하여 모든 사람이 성장의 결과를 골고루 누릴 수 '\n",
      "                 '있는 시장경제를 만들 것이다.\\\\n둘, ‘행복하게 일할 수 있는 노동존중사회’를 실현한다. 좋은 일자리를 '\n",
      "                 '만들고, 동일가치노동 동일임금의 원칙을 지키며, 일하는 모든 사람의 노동권을 보장하는 사회를 만들 '\n",
      "                 '것이다.\\\\n셋, ‘더 강한 민주주의와 당원중심 대중정당’을 구현한다. 정치적 다원주의를 지향하고, 권력 '\n",
      "                 '견제를 통해 민주주의를 위협하는 모든 행위에 단호히 맞서며, 시민과 당원의 정치참여를 확대할 '\n",
      "                 '것이다.\\\\n넷, ‘모든 지역이 골고루 잘 사는 나라’를 만든다. 지역간 불평등을 해소하고, 지역에 상관없이 '\n",
      "                 '모든 국민에게 보편적 기본서비스를 제공하여 생활기본권을 보장할 것이다.\\\\n다섯, ‘튼튼한 안보에 기반한 '\n",
      "                 '국익중심 실용외교’를 추구한다. 굳건한 한미동맹을 바탕으로 미래 방위역량을 강화하고, 이념중심 진영외교를 '\n",
      "                 '극복하여 국익을 중심으로 외교지평을 확대할 것이다.\\\\n여섯, ‘전쟁 없는 평화로운 한반도’를 실현한다. '\n",
      "                 '남북간 군사적 긴장을 완화하고, 한반도의 완전한 비핵화와 평화체제 구축을 추진하며, 남북 평화공존과 '\n",
      "                 '공동번영을 이룩할 것이다.\\\\n일곱, ‘기초과학과 미래기술을 선도하는 과학기술강국’을 이룬다. 연구개발 '\n",
      "                 '투자와 혁신을 통한 과학기술 발전으로 한국 경제의 성장잠재력을 제고하고, 창의적인 과학기술인재를 육성할 '\n",
      "                 '것이다.\\\\n여덟, ‘기후위기 대응을 위한 탄소중립과 지속가능발전’을 실현한다. 국제사회와의 약속인 지구 '\n",
      "                 '평균기온 1.5℃ 이하 안정화를 추구하고, 재생에너지 확대에 기반한 공정한 에너지전환을 추진할 '\n",
      "                 '것이다.\\\\n아홉, ‘누구도 소외되지 않는 보편적 복지국가’를 건설한다. 사회적 위험에서 국민을 보호하고, '\n",
      "                 '전생애에 걸쳐 소득·건강·주거의 기본생활을 보장하며, 모든 시민의 더 나은 삶을 추구할 것이다.\\\\n열, '\n",
      "                 '‘포용과 상생의 교육, 생애주기별 맞춤형 교육’을 실현한다. 교육에 대한 국가의 책무와 공공성을 강화하여 질 '\n",
      "                 '높은 교육을 시행하고, 국민 모두가 함께 성장하는 평생학습사회를 만들 것이다.\\\\n열하나, ‘성평등 '\n",
      "                 '민주주의’를 실현한다. 구조적 성차별을 근절하고, 성별에 관계없이 함께 일하고 양육하는 사회를 만들며, 모든 '\n",
      "                 '젠더폭력에 대한 예방과 피해자 권리 보호를 강화할 것이다.\\\\n열둘, ‘문화·예술·체육의 조화를 통한 '\n",
      "                 '국민행복사회’를 구현한다. 국민의 행복하고 건강한 삶을 위한 문화·체육 복지를 확대하고, 문화적 다양성을 '\n",
      "                 '보장하여 우리 사회의 문화적 소양을 증진할 것이다.\\\\n열셋, ‘언론의 자유 보장과 공영미디어 독립성 '\n",
      "                 '강화’를 실현한다. 언론을 정치·경제 권력으로부터 독립적으로 존재하게 하고, 공영미디어를 통해 국민의 기본적 '\n",
      "                 '정보추구권을 보장할 것이다.\\\\n우리는 국민의 삶을 책임지는 유능한 정당, 민주적으로 운영되는 당원중심 '\n",
      "                 '정당, 함께 잘 사는 미래를 만드는 준비된 정당이 되어야 한다. 혁신과 신뢰의 정치, 성실한 노력으로 국민의 '\n",
      "                 '기대에 부응해야 한다. 우리는 당원과 국민의 모든 지혜와 힘을 모아 새로운 대한민국으로 나아갈 것이다.\", '\n",
      "                 '\"type\": \"강령\"}'}\n"
     ]
    }
   ],
   "source": [
    "pprint(documents[0])"
   ]
  },
  {
   "cell_type": "code",
   "execution_count": 18,
   "metadata": {},
   "outputs": [
    {
     "data": {
      "text/plain": [
       "65"
      ]
     },
     "execution_count": 18,
     "metadata": {},
     "output_type": "execute_result"
    }
   ],
   "source": [
    "len(documents)"
   ]
  },
  {
   "cell_type": "markdown",
   "metadata": {},
   "source": [
    "## 2) Data Insert"
   ]
  },
  {
   "cell_type": "code",
   "execution_count": 19,
   "metadata": {},
   "outputs": [
    {
     "data": {
      "text/plain": [
       "True"
      ]
     },
     "execution_count": 19,
     "metadata": {},
     "output_type": "execute_result"
    }
   ],
   "source": [
    "import os\n",
    "from dotenv import load_dotenv\n",
    "\n",
    "load_dotenv()"
   ]
  },
  {
   "cell_type": "code",
   "execution_count": 20,
   "metadata": {},
   "outputs": [
    {
     "name": "stderr",
     "output_type": "stream",
     "text": [
      "/Users/ansangjun/Desktop/Projects/python/FastRAG/.venv/lib/python3.11/site-packages/pinecone/data/index.py:1: TqdmWarning: IProgress not found. Please update jupyter and ipywidgets. See https://ipywidgets.readthedocs.io/en/stable/user_install.html\n",
      "  from tqdm.autonotebook import tqdm\n"
     ]
    }
   ],
   "source": [
    "import time\n",
    "from pinecone import Pinecone, ServerlessSpec\n",
    "from langchain_pinecone import PineconeVectorStore\n",
    "\n",
    "index_name = \"test2\"\n",
    "pc = Pinecone(api_key=os.environ.get(\"PINECONE_API_KEY\"))\n",
    "existing_indexes = [index_info[\"name\"] for index_info in pc.list_indexes()]\n",
    "\n",
    "if index_name not in existing_indexes:\n",
    "    pc.create_index(\n",
    "        name=index_name,\n",
    "        dimension=1024,\n",
    "        metric=\"cosine\",\n",
    "        spec=ServerlessSpec(cloud=\"aws\", region=\"us-east-1\"),\n",
    "    )\n",
    "    while not pc.describe_index(index_name).status[\"ready\"]:\n",
    "        time.sleep(1)"
   ]
  },
  {
   "cell_type": "code",
   "execution_count": 21,
   "metadata": {},
   "outputs": [
    {
     "name": "stderr",
     "output_type": "stream",
     "text": [
      "/var/folders/yh/12scbgj57_d8xq3nw0klxfq00000gn/T/ipykernel_15272/3115346873.py:2: LangChainDeprecationWarning: The class `OllamaEmbeddings` was deprecated in LangChain 0.3.1 and will be removed in 1.0.0. An updated version of the class exists in the :class:`~langchain-ollama package and should be used instead. To use it run `pip install -U :class:`~langchain-ollama` and import as `from :class:`~langchain_ollama import OllamaEmbeddings``.\n",
      "  vector_store = PineconeVectorStore(index=index, embedding=embeddings.OllamaEmbeddings(model=\"bge-m3\"))\n"
     ]
    }
   ],
   "source": [
    "index = pc.Index(index_name)\n",
    "vector_store = PineconeVectorStore(index=index, embedding=embeddings.OllamaEmbeddings(model=\"bge-m3\"))"
   ]
  },
  {
   "cell_type": "code",
   "execution_count": 23,
   "metadata": {},
   "outputs": [],
   "source": [
    "from langchain_core.documents import Document\n",
    "\n",
    "vectorDocuments = []\n",
    "for document in documents:\n",
    "    vectorDocument = Document(page_content=document[\"page_content\"])\n",
    "    vectorDocuments.append(vectorDocument)"
   ]
  },
  {
   "cell_type": "code",
   "execution_count": 24,
   "metadata": {},
   "outputs": [
    {
     "name": "stdout",
     "output_type": "stream",
     "text": [
      "API call failed after 3 attempts: (400)\n",
      "Reason: Bad Request\n",
      "HTTP response headers: HTTPHeaderDict({'Date': 'Tue, 04 Feb 2025 17:27:20 GMT', 'Content-Type': 'application/json', 'Content-Length': '115', 'Connection': 'keep-alive', 'x-pinecone-request-latency-ms': '787', 'x-pinecone-request-id': '6419566380661246544', 'x-envoy-upstream-service-time': '5', 'server': 'envoy'})\n",
      "HTTP response body: {\"code\":3,\"message\":\"Metadata size is 56084 bytes, which exceeds the limit of 40960 bytes per vector\",\"details\":[]}\n",
      "\n"
     ]
    },
    {
     "ename": "PineconeApiException",
     "evalue": "(400)\nReason: Bad Request\nHTTP response headers: HTTPHeaderDict({'Date': 'Tue, 04 Feb 2025 17:27:20 GMT', 'Content-Type': 'application/json', 'Content-Length': '115', 'Connection': 'keep-alive', 'x-pinecone-request-latency-ms': '787', 'x-pinecone-request-id': '6419566380661246544', 'x-envoy-upstream-service-time': '5', 'server': 'envoy'})\nHTTP response body: {\"code\":3,\"message\":\"Metadata size is 56084 bytes, which exceeds the limit of 40960 bytes per vector\",\"details\":[]}\n",
     "output_type": "error",
     "traceback": [
      "\u001b[0;31m---------------------------------------------------------------------------\u001b[0m",
      "\u001b[0;31mPineconeApiException\u001b[0m                      Traceback (most recent call last)",
      "Cell \u001b[0;32mIn[24], line 2\u001b[0m\n\u001b[1;32m      1\u001b[0m ids \u001b[38;5;241m=\u001b[39m [\u001b[38;5;28mstr\u001b[39m(i) \u001b[38;5;28;01mfor\u001b[39;00m i \u001b[38;5;129;01min\u001b[39;00m \u001b[38;5;28mrange\u001b[39m(\u001b[38;5;241m498\u001b[39m, \u001b[38;5;28mlen\u001b[39m(vectorDocuments)\u001b[38;5;241m+\u001b[39m\u001b[38;5;241m499\u001b[39m)]\n\u001b[0;32m----> 2\u001b[0m \u001b[43mvector_store\u001b[49m\u001b[38;5;241;43m.\u001b[39;49m\u001b[43madd_documents\u001b[49m\u001b[43m(\u001b[49m\u001b[43mdocuments\u001b[49m\u001b[38;5;241;43m=\u001b[39;49m\u001b[43mvectorDocuments\u001b[49m\u001b[43m,\u001b[49m\u001b[43m \u001b[49m\u001b[43mids\u001b[49m\u001b[38;5;241;43m=\u001b[39;49m\u001b[43mids\u001b[49m\u001b[43m)\u001b[49m\n",
      "File \u001b[0;32m~/Desktop/Projects/python/FastRAG/.venv/lib/python3.11/site-packages/langchain_core/vectorstores/base.py:286\u001b[0m, in \u001b[0;36mVectorStore.add_documents\u001b[0;34m(self, documents, **kwargs)\u001b[0m\n\u001b[1;32m    284\u001b[0m     texts \u001b[38;5;241m=\u001b[39m [doc\u001b[38;5;241m.\u001b[39mpage_content \u001b[38;5;28;01mfor\u001b[39;00m doc \u001b[38;5;129;01min\u001b[39;00m documents]\n\u001b[1;32m    285\u001b[0m     metadatas \u001b[38;5;241m=\u001b[39m [doc\u001b[38;5;241m.\u001b[39mmetadata \u001b[38;5;28;01mfor\u001b[39;00m doc \u001b[38;5;129;01min\u001b[39;00m documents]\n\u001b[0;32m--> 286\u001b[0m     \u001b[38;5;28;01mreturn\u001b[39;00m \u001b[38;5;28;43mself\u001b[39;49m\u001b[38;5;241;43m.\u001b[39;49m\u001b[43madd_texts\u001b[49m\u001b[43m(\u001b[49m\u001b[43mtexts\u001b[49m\u001b[43m,\u001b[49m\u001b[43m \u001b[49m\u001b[43mmetadatas\u001b[49m\u001b[43m,\u001b[49m\u001b[43m \u001b[49m\u001b[38;5;241;43m*\u001b[39;49m\u001b[38;5;241;43m*\u001b[39;49m\u001b[43mkwargs\u001b[49m\u001b[43m)\u001b[49m\n\u001b[1;32m    287\u001b[0m msg \u001b[38;5;241m=\u001b[39m (\n\u001b[1;32m    288\u001b[0m     \u001b[38;5;124mf\u001b[39m\u001b[38;5;124m\"\u001b[39m\u001b[38;5;124m`add_documents` and `add_texts` has not been implemented \u001b[39m\u001b[38;5;124m\"\u001b[39m\n\u001b[1;32m    289\u001b[0m     \u001b[38;5;124mf\u001b[39m\u001b[38;5;124m\"\u001b[39m\u001b[38;5;124mfor \u001b[39m\u001b[38;5;132;01m{\u001b[39;00m\u001b[38;5;28mself\u001b[39m\u001b[38;5;241m.\u001b[39m\u001b[38;5;18m__class__\u001b[39m\u001b[38;5;241m.\u001b[39m\u001b[38;5;18m__name__\u001b[39m\u001b[38;5;132;01m}\u001b[39;00m\u001b[38;5;124m \u001b[39m\u001b[38;5;124m\"\u001b[39m\n\u001b[1;32m    290\u001b[0m )\n\u001b[1;32m    291\u001b[0m \u001b[38;5;28;01mraise\u001b[39;00m \u001b[38;5;167;01mNotImplementedError\u001b[39;00m(msg)\n",
      "File \u001b[0;32m~/Desktop/Projects/python/FastRAG/.venv/lib/python3.11/site-packages/langchain_pinecone/vectorstores.py:293\u001b[0m, in \u001b[0;36mPineconeVectorStore.add_texts\u001b[0;34m(self, texts, metadatas, ids, namespace, batch_size, embedding_chunk_size, async_req, id_prefix, **kwargs)\u001b[0m\n\u001b[1;32m    282\u001b[0m \u001b[38;5;28;01mif\u001b[39;00m async_req:\n\u001b[1;32m    283\u001b[0m     \u001b[38;5;66;03m# Runs the pinecone upsert asynchronously.\u001b[39;00m\n\u001b[1;32m    284\u001b[0m     async_res \u001b[38;5;241m=\u001b[39m [\n\u001b[1;32m    285\u001b[0m         \u001b[38;5;28mself\u001b[39m\u001b[38;5;241m.\u001b[39m_index\u001b[38;5;241m.\u001b[39mupsert(\n\u001b[1;32m    286\u001b[0m             vectors\u001b[38;5;241m=\u001b[39mbatch_vector_tuples,\n\u001b[0;32m   (...)\u001b[0m\n\u001b[1;32m    291\u001b[0m         \u001b[38;5;28;01mfor\u001b[39;00m batch_vector_tuples \u001b[38;5;129;01min\u001b[39;00m batch_iterate(batch_size, vector_tuples)\n\u001b[1;32m    292\u001b[0m     ]\n\u001b[0;32m--> 293\u001b[0m     \u001b[43m[\u001b[49m\u001b[43mres\u001b[49m\u001b[38;5;241;43m.\u001b[39;49m\u001b[43mget\u001b[49m\u001b[43m(\u001b[49m\u001b[43m)\u001b[49m\u001b[43m \u001b[49m\u001b[38;5;28;43;01mfor\u001b[39;49;00m\u001b[43m \u001b[49m\u001b[43mres\u001b[49m\u001b[43m \u001b[49m\u001b[38;5;129;43;01min\u001b[39;49;00m\u001b[43m \u001b[49m\u001b[43masync_res\u001b[49m\u001b[43m]\u001b[49m\n\u001b[1;32m    294\u001b[0m \u001b[38;5;28;01melse\u001b[39;00m:\n\u001b[1;32m    295\u001b[0m     \u001b[38;5;28mself\u001b[39m\u001b[38;5;241m.\u001b[39m_index\u001b[38;5;241m.\u001b[39mupsert(\n\u001b[1;32m    296\u001b[0m         vectors\u001b[38;5;241m=\u001b[39mvector_tuples,\n\u001b[1;32m    297\u001b[0m         namespace\u001b[38;5;241m=\u001b[39mnamespace,\n\u001b[1;32m    298\u001b[0m         async_req\u001b[38;5;241m=\u001b[39masync_req,\n\u001b[1;32m    299\u001b[0m         \u001b[38;5;241m*\u001b[39m\u001b[38;5;241m*\u001b[39mkwargs,\n\u001b[1;32m    300\u001b[0m     )\n",
      "File \u001b[0;32m~/Desktop/Projects/python/FastRAG/.venv/lib/python3.11/site-packages/langchain_pinecone/vectorstores.py:293\u001b[0m, in \u001b[0;36m<listcomp>\u001b[0;34m(.0)\u001b[0m\n\u001b[1;32m    282\u001b[0m \u001b[38;5;28;01mif\u001b[39;00m async_req:\n\u001b[1;32m    283\u001b[0m     \u001b[38;5;66;03m# Runs the pinecone upsert asynchronously.\u001b[39;00m\n\u001b[1;32m    284\u001b[0m     async_res \u001b[38;5;241m=\u001b[39m [\n\u001b[1;32m    285\u001b[0m         \u001b[38;5;28mself\u001b[39m\u001b[38;5;241m.\u001b[39m_index\u001b[38;5;241m.\u001b[39mupsert(\n\u001b[1;32m    286\u001b[0m             vectors\u001b[38;5;241m=\u001b[39mbatch_vector_tuples,\n\u001b[0;32m   (...)\u001b[0m\n\u001b[1;32m    291\u001b[0m         \u001b[38;5;28;01mfor\u001b[39;00m batch_vector_tuples \u001b[38;5;129;01min\u001b[39;00m batch_iterate(batch_size, vector_tuples)\n\u001b[1;32m    292\u001b[0m     ]\n\u001b[0;32m--> 293\u001b[0m     [\u001b[43mres\u001b[49m\u001b[38;5;241;43m.\u001b[39;49m\u001b[43mget\u001b[49m\u001b[43m(\u001b[49m\u001b[43m)\u001b[49m \u001b[38;5;28;01mfor\u001b[39;00m res \u001b[38;5;129;01min\u001b[39;00m async_res]\n\u001b[1;32m    294\u001b[0m \u001b[38;5;28;01melse\u001b[39;00m:\n\u001b[1;32m    295\u001b[0m     \u001b[38;5;28mself\u001b[39m\u001b[38;5;241m.\u001b[39m_index\u001b[38;5;241m.\u001b[39mupsert(\n\u001b[1;32m    296\u001b[0m         vectors\u001b[38;5;241m=\u001b[39mvector_tuples,\n\u001b[1;32m    297\u001b[0m         namespace\u001b[38;5;241m=\u001b[39mnamespace,\n\u001b[1;32m    298\u001b[0m         async_req\u001b[38;5;241m=\u001b[39masync_req,\n\u001b[1;32m    299\u001b[0m         \u001b[38;5;241m*\u001b[39m\u001b[38;5;241m*\u001b[39mkwargs,\n\u001b[1;32m    300\u001b[0m     )\n",
      "File \u001b[0;32m/Library/Frameworks/Python.framework/Versions/3.11/lib/python3.11/multiprocessing/pool.py:774\u001b[0m, in \u001b[0;36mApplyResult.get\u001b[0;34m(self, timeout)\u001b[0m\n\u001b[1;32m    772\u001b[0m     \u001b[38;5;28;01mreturn\u001b[39;00m \u001b[38;5;28mself\u001b[39m\u001b[38;5;241m.\u001b[39m_value\n\u001b[1;32m    773\u001b[0m \u001b[38;5;28;01melse\u001b[39;00m:\n\u001b[0;32m--> 774\u001b[0m     \u001b[38;5;28;01mraise\u001b[39;00m \u001b[38;5;28mself\u001b[39m\u001b[38;5;241m.\u001b[39m_value\n",
      "File \u001b[0;32m/Library/Frameworks/Python.framework/Versions/3.11/lib/python3.11/multiprocessing/pool.py:125\u001b[0m, in \u001b[0;36mworker\u001b[0;34m(inqueue, outqueue, initializer, initargs, maxtasks, wrap_exception)\u001b[0m\n\u001b[1;32m    123\u001b[0m job, i, func, args, kwds \u001b[38;5;241m=\u001b[39m task\n\u001b[1;32m    124\u001b[0m \u001b[38;5;28;01mtry\u001b[39;00m:\n\u001b[0;32m--> 125\u001b[0m     result \u001b[38;5;241m=\u001b[39m (\u001b[38;5;28;01mTrue\u001b[39;00m, \u001b[43mfunc\u001b[49m\u001b[43m(\u001b[49m\u001b[38;5;241;43m*\u001b[39;49m\u001b[43margs\u001b[49m\u001b[43m,\u001b[49m\u001b[43m \u001b[49m\u001b[38;5;241;43m*\u001b[39;49m\u001b[38;5;241;43m*\u001b[39;49m\u001b[43mkwds\u001b[49m\u001b[43m)\u001b[49m)\n\u001b[1;32m    126\u001b[0m \u001b[38;5;28;01mexcept\u001b[39;00m \u001b[38;5;167;01mException\u001b[39;00m \u001b[38;5;28;01mas\u001b[39;00m e:\n\u001b[1;32m    127\u001b[0m     \u001b[38;5;28;01mif\u001b[39;00m wrap_exception \u001b[38;5;129;01mand\u001b[39;00m func \u001b[38;5;129;01mis\u001b[39;00m \u001b[38;5;129;01mnot\u001b[39;00m _helper_reraises_exception:\n",
      "File \u001b[0;32m~/Desktop/Projects/python/FastRAG/.venv/lib/python3.11/site-packages/pinecone/core/openapi/shared/api_client.py:21\u001b[0m, in \u001b[0;36mretry_api_call\u001b[0;34m(func, args, kwargs, retries, backoff, jitter)\u001b[0m\n\u001b[1;32m     19\u001b[0m \u001b[38;5;28;01mwhile\u001b[39;00m attempts \u001b[38;5;241m<\u001b[39m retries:\n\u001b[1;32m     20\u001b[0m     \u001b[38;5;28;01mtry\u001b[39;00m:\n\u001b[0;32m---> 21\u001b[0m         \u001b[38;5;28;01mreturn\u001b[39;00m \u001b[43mfunc\u001b[49m\u001b[43m(\u001b[49m\u001b[38;5;241;43m*\u001b[39;49m\u001b[43margs\u001b[49m\u001b[43m,\u001b[49m\u001b[43m \u001b[49m\u001b[38;5;241;43m*\u001b[39;49m\u001b[38;5;241;43m*\u001b[39;49m\u001b[43mkwargs\u001b[49m\u001b[43m)\u001b[49m  \u001b[38;5;66;03m# Attempt to call __call_api\u001b[39;00m\n\u001b[1;32m     22\u001b[0m     \u001b[38;5;28;01mexcept\u001b[39;00m \u001b[38;5;167;01mException\u001b[39;00m \u001b[38;5;28;01mas\u001b[39;00m e:\n\u001b[1;32m     23\u001b[0m         attempts \u001b[38;5;241m+\u001b[39m\u001b[38;5;241m=\u001b[39m \u001b[38;5;241m1\u001b[39m\n",
      "File \u001b[0;32m~/Desktop/Projects/python/FastRAG/.venv/lib/python3.11/site-packages/pinecone/core/openapi/shared/api_client.py:216\u001b[0m, in \u001b[0;36mApiClient.__call_api\u001b[0;34m(self, resource_path, method, path_params, query_params, header_params, body, post_params, files, response_type, auth_settings, _return_http_data_only, collection_formats, _preload_content, _request_timeout, _host, _check_type)\u001b[0m\n\u001b[1;32m    214\u001b[0m \u001b[38;5;28;01mexcept\u001b[39;00m PineconeApiException \u001b[38;5;28;01mas\u001b[39;00m e:\n\u001b[1;32m    215\u001b[0m     e\u001b[38;5;241m.\u001b[39mbody \u001b[38;5;241m=\u001b[39m e\u001b[38;5;241m.\u001b[39mbody\u001b[38;5;241m.\u001b[39mdecode(\u001b[38;5;124m\"\u001b[39m\u001b[38;5;124mutf-8\u001b[39m\u001b[38;5;124m\"\u001b[39m)\n\u001b[0;32m--> 216\u001b[0m     \u001b[38;5;28;01mraise\u001b[39;00m e\n\u001b[1;32m    218\u001b[0m \u001b[38;5;28mself\u001b[39m\u001b[38;5;241m.\u001b[39mlast_response \u001b[38;5;241m=\u001b[39m response_data\n\u001b[1;32m    220\u001b[0m return_data \u001b[38;5;241m=\u001b[39m response_data\n",
      "File \u001b[0;32m~/Desktop/Projects/python/FastRAG/.venv/lib/python3.11/site-packages/pinecone/core/openapi/shared/api_client.py:204\u001b[0m, in \u001b[0;36mApiClient.__call_api\u001b[0;34m(self, resource_path, method, path_params, query_params, header_params, body, post_params, files, response_type, auth_settings, _return_http_data_only, collection_formats, _preload_content, _request_timeout, _host, _check_type)\u001b[0m\n\u001b[1;32m    200\u001b[0m     url \u001b[38;5;241m=\u001b[39m _host \u001b[38;5;241m+\u001b[39m resource_path\n\u001b[1;32m    202\u001b[0m \u001b[38;5;28;01mtry\u001b[39;00m:\n\u001b[1;32m    203\u001b[0m     \u001b[38;5;66;03m# perform request and return response\u001b[39;00m\n\u001b[0;32m--> 204\u001b[0m     response_data \u001b[38;5;241m=\u001b[39m \u001b[38;5;28;43mself\u001b[39;49m\u001b[38;5;241;43m.\u001b[39;49m\u001b[43mrequest\u001b[49m\u001b[43m(\u001b[49m\n\u001b[1;32m    205\u001b[0m \u001b[43m        \u001b[49m\u001b[43mmethod\u001b[49m\u001b[43m,\u001b[49m\n\u001b[1;32m    206\u001b[0m \u001b[43m        \u001b[49m\u001b[43murl\u001b[49m\u001b[43m,\u001b[49m\n\u001b[1;32m    207\u001b[0m \u001b[43m        \u001b[49m\u001b[43mquery_params\u001b[49m\u001b[38;5;241;43m=\u001b[39;49m\u001b[43mquery_params\u001b[49m\u001b[43m,\u001b[49m\n\u001b[1;32m    208\u001b[0m \u001b[43m        \u001b[49m\u001b[43mheaders\u001b[49m\u001b[38;5;241;43m=\u001b[39;49m\u001b[43mheader_params\u001b[49m\u001b[43m,\u001b[49m\n\u001b[1;32m    209\u001b[0m \u001b[43m        \u001b[49m\u001b[43mpost_params\u001b[49m\u001b[38;5;241;43m=\u001b[39;49m\u001b[43mpost_params\u001b[49m\u001b[43m,\u001b[49m\n\u001b[1;32m    210\u001b[0m \u001b[43m        \u001b[49m\u001b[43mbody\u001b[49m\u001b[38;5;241;43m=\u001b[39;49m\u001b[43mbody\u001b[49m\u001b[43m,\u001b[49m\n\u001b[1;32m    211\u001b[0m \u001b[43m        \u001b[49m\u001b[43m_preload_content\u001b[49m\u001b[38;5;241;43m=\u001b[39;49m\u001b[43m_preload_content\u001b[49m\u001b[43m,\u001b[49m\n\u001b[1;32m    212\u001b[0m \u001b[43m        \u001b[49m\u001b[43m_request_timeout\u001b[49m\u001b[38;5;241;43m=\u001b[39;49m\u001b[43m_request_timeout\u001b[49m\u001b[43m,\u001b[49m\n\u001b[1;32m    213\u001b[0m \u001b[43m    \u001b[49m\u001b[43m)\u001b[49m\n\u001b[1;32m    214\u001b[0m \u001b[38;5;28;01mexcept\u001b[39;00m PineconeApiException \u001b[38;5;28;01mas\u001b[39;00m e:\n\u001b[1;32m    215\u001b[0m     e\u001b[38;5;241m.\u001b[39mbody \u001b[38;5;241m=\u001b[39m e\u001b[38;5;241m.\u001b[39mbody\u001b[38;5;241m.\u001b[39mdecode(\u001b[38;5;124m\"\u001b[39m\u001b[38;5;124mutf-8\u001b[39m\u001b[38;5;124m\"\u001b[39m)\n",
      "File \u001b[0;32m~/Desktop/Projects/python/FastRAG/.venv/lib/python3.11/site-packages/pinecone/core/openapi/shared/api_client.py:518\u001b[0m, in \u001b[0;36mApiClient.request\u001b[0;34m(self, method, url, query_params, headers, post_params, body, _preload_content, _request_timeout)\u001b[0m\n\u001b[1;32m    508\u001b[0m     \u001b[38;5;28;01mreturn\u001b[39;00m \u001b[38;5;28mself\u001b[39m\u001b[38;5;241m.\u001b[39mrest_client\u001b[38;5;241m.\u001b[39mOPTIONS(\n\u001b[1;32m    509\u001b[0m         url,\n\u001b[1;32m    510\u001b[0m         query_params\u001b[38;5;241m=\u001b[39mquery_params,\n\u001b[0;32m   (...)\u001b[0m\n\u001b[1;32m    515\u001b[0m         body\u001b[38;5;241m=\u001b[39mbody,\n\u001b[1;32m    516\u001b[0m     )\n\u001b[1;32m    517\u001b[0m \u001b[38;5;28;01melif\u001b[39;00m method \u001b[38;5;241m==\u001b[39m \u001b[38;5;124m\"\u001b[39m\u001b[38;5;124mPOST\u001b[39m\u001b[38;5;124m\"\u001b[39m:\n\u001b[0;32m--> 518\u001b[0m     \u001b[38;5;28;01mreturn\u001b[39;00m \u001b[38;5;28;43mself\u001b[39;49m\u001b[38;5;241;43m.\u001b[39;49m\u001b[43mrest_client\u001b[49m\u001b[38;5;241;43m.\u001b[39;49m\u001b[43mPOST\u001b[49m\u001b[43m(\u001b[49m\n\u001b[1;32m    519\u001b[0m \u001b[43m        \u001b[49m\u001b[43murl\u001b[49m\u001b[43m,\u001b[49m\n\u001b[1;32m    520\u001b[0m \u001b[43m        \u001b[49m\u001b[43mquery_params\u001b[49m\u001b[38;5;241;43m=\u001b[39;49m\u001b[43mquery_params\u001b[49m\u001b[43m,\u001b[49m\n\u001b[1;32m    521\u001b[0m \u001b[43m        \u001b[49m\u001b[43mheaders\u001b[49m\u001b[38;5;241;43m=\u001b[39;49m\u001b[43mheaders\u001b[49m\u001b[43m,\u001b[49m\n\u001b[1;32m    522\u001b[0m \u001b[43m        \u001b[49m\u001b[43mpost_params\u001b[49m\u001b[38;5;241;43m=\u001b[39;49m\u001b[43mpost_params\u001b[49m\u001b[43m,\u001b[49m\n\u001b[1;32m    523\u001b[0m \u001b[43m        \u001b[49m\u001b[43m_preload_content\u001b[49m\u001b[38;5;241;43m=\u001b[39;49m\u001b[43m_preload_content\u001b[49m\u001b[43m,\u001b[49m\n\u001b[1;32m    524\u001b[0m \u001b[43m        \u001b[49m\u001b[43m_request_timeout\u001b[49m\u001b[38;5;241;43m=\u001b[39;49m\u001b[43m_request_timeout\u001b[49m\u001b[43m,\u001b[49m\n\u001b[1;32m    525\u001b[0m \u001b[43m        \u001b[49m\u001b[43mbody\u001b[49m\u001b[38;5;241;43m=\u001b[39;49m\u001b[43mbody\u001b[49m\u001b[43m,\u001b[49m\n\u001b[1;32m    526\u001b[0m \u001b[43m    \u001b[49m\u001b[43m)\u001b[49m\n\u001b[1;32m    527\u001b[0m \u001b[38;5;28;01melif\u001b[39;00m method \u001b[38;5;241m==\u001b[39m \u001b[38;5;124m\"\u001b[39m\u001b[38;5;124mPUT\u001b[39m\u001b[38;5;124m\"\u001b[39m:\n\u001b[1;32m    528\u001b[0m     \u001b[38;5;28;01mreturn\u001b[39;00m \u001b[38;5;28mself\u001b[39m\u001b[38;5;241m.\u001b[39mrest_client\u001b[38;5;241m.\u001b[39mPUT(\n\u001b[1;32m    529\u001b[0m         url,\n\u001b[1;32m    530\u001b[0m         query_params\u001b[38;5;241m=\u001b[39mquery_params,\n\u001b[0;32m   (...)\u001b[0m\n\u001b[1;32m    535\u001b[0m         body\u001b[38;5;241m=\u001b[39mbody,\n\u001b[1;32m    536\u001b[0m     )\n",
      "File \u001b[0;32m~/Desktop/Projects/python/FastRAG/.venv/lib/python3.11/site-packages/pinecone/core/openapi/shared/rest.py:345\u001b[0m, in \u001b[0;36mRESTClientObject.POST\u001b[0;34m(self, url, headers, query_params, post_params, body, _preload_content, _request_timeout)\u001b[0m\n\u001b[1;32m    335\u001b[0m \u001b[38;5;28;01mdef\u001b[39;00m\u001b[38;5;250m \u001b[39m\u001b[38;5;21mPOST\u001b[39m(\n\u001b[1;32m    336\u001b[0m     \u001b[38;5;28mself\u001b[39m,\n\u001b[1;32m    337\u001b[0m     url,\n\u001b[0;32m   (...)\u001b[0m\n\u001b[1;32m    343\u001b[0m     _request_timeout\u001b[38;5;241m=\u001b[39m\u001b[38;5;28;01mNone\u001b[39;00m,\n\u001b[1;32m    344\u001b[0m ):\n\u001b[0;32m--> 345\u001b[0m     \u001b[38;5;28;01mreturn\u001b[39;00m \u001b[38;5;28;43mself\u001b[39;49m\u001b[38;5;241;43m.\u001b[39;49m\u001b[43mrequest\u001b[49m\u001b[43m(\u001b[49m\n\u001b[1;32m    346\u001b[0m \u001b[43m        \u001b[49m\u001b[38;5;124;43m\"\u001b[39;49m\u001b[38;5;124;43mPOST\u001b[39;49m\u001b[38;5;124;43m\"\u001b[39;49m\u001b[43m,\u001b[49m\n\u001b[1;32m    347\u001b[0m \u001b[43m        \u001b[49m\u001b[43murl\u001b[49m\u001b[43m,\u001b[49m\n\u001b[1;32m    348\u001b[0m \u001b[43m        \u001b[49m\u001b[43mheaders\u001b[49m\u001b[38;5;241;43m=\u001b[39;49m\u001b[43mheaders\u001b[49m\u001b[43m,\u001b[49m\n\u001b[1;32m    349\u001b[0m \u001b[43m        \u001b[49m\u001b[43mquery_params\u001b[49m\u001b[38;5;241;43m=\u001b[39;49m\u001b[43mquery_params\u001b[49m\u001b[43m,\u001b[49m\n\u001b[1;32m    350\u001b[0m \u001b[43m        \u001b[49m\u001b[43mpost_params\u001b[49m\u001b[38;5;241;43m=\u001b[39;49m\u001b[43mpost_params\u001b[49m\u001b[43m,\u001b[49m\n\u001b[1;32m    351\u001b[0m \u001b[43m        \u001b[49m\u001b[43m_preload_content\u001b[49m\u001b[38;5;241;43m=\u001b[39;49m\u001b[43m_preload_content\u001b[49m\u001b[43m,\u001b[49m\n\u001b[1;32m    352\u001b[0m \u001b[43m        \u001b[49m\u001b[43m_request_timeout\u001b[49m\u001b[38;5;241;43m=\u001b[39;49m\u001b[43m_request_timeout\u001b[49m\u001b[43m,\u001b[49m\n\u001b[1;32m    353\u001b[0m \u001b[43m        \u001b[49m\u001b[43mbody\u001b[49m\u001b[38;5;241;43m=\u001b[39;49m\u001b[43mbody\u001b[49m\u001b[43m,\u001b[49m\n\u001b[1;32m    354\u001b[0m \u001b[43m    \u001b[49m\u001b[43m)\u001b[49m\n",
      "File \u001b[0;32m~/Desktop/Projects/python/FastRAG/.venv/lib/python3.11/site-packages/pinecone/core/openapi/shared/rest.py:279\u001b[0m, in \u001b[0;36mRESTClientObject.request\u001b[0;34m(self, method, url, query_params, headers, body, post_params, _preload_content, _request_timeout)\u001b[0m\n\u001b[1;32m    276\u001b[0m     \u001b[38;5;28;01mif\u001b[39;00m \u001b[38;5;241m500\u001b[39m \u001b[38;5;241m<\u001b[39m\u001b[38;5;241m=\u001b[39m r\u001b[38;5;241m.\u001b[39mstatus \u001b[38;5;241m<\u001b[39m\u001b[38;5;241m=\u001b[39m \u001b[38;5;241m599\u001b[39m:\n\u001b[1;32m    277\u001b[0m         \u001b[38;5;28;01mraise\u001b[39;00m ServiceException(http_resp\u001b[38;5;241m=\u001b[39mr)\n\u001b[0;32m--> 279\u001b[0m     \u001b[38;5;28;01mraise\u001b[39;00m PineconeApiException(http_resp\u001b[38;5;241m=\u001b[39mr)\n\u001b[1;32m    281\u001b[0m \u001b[38;5;28;01mreturn\u001b[39;00m r\n",
      "\u001b[0;31mPineconeApiException\u001b[0m: (400)\nReason: Bad Request\nHTTP response headers: HTTPHeaderDict({'Date': 'Tue, 04 Feb 2025 17:27:20 GMT', 'Content-Type': 'application/json', 'Content-Length': '115', 'Connection': 'keep-alive', 'x-pinecone-request-latency-ms': '787', 'x-pinecone-request-id': '6419566380661246544', 'x-envoy-upstream-service-time': '5', 'server': 'envoy'})\nHTTP response body: {\"code\":3,\"message\":\"Metadata size is 56084 bytes, which exceeds the limit of 40960 bytes per vector\",\"details\":[]}\n"
     ]
    }
   ],
   "source": [
    "ids = [str(i) for i in range(498, len(vectorDocuments)+499)]\n",
    "vector_store.add_documents(documents=vectorDocuments, ids=ids)"
   ]
  },
  {
   "cell_type": "markdown",
   "metadata": {},
   "source": [
    "## 3) Chat Completion Test"
   ]
  },
  {
   "cell_type": "code",
   "execution_count": 22,
   "metadata": {},
   "outputs": [
    {
     "name": "stdout",
     "output_type": "stream",
     "text": [
      "3\n",
      "('* {\"소속\": \"중앙당\", \"이름\": \"황정아\", \"직책\": \"대변인\", \"슬로건\": \"\"} [{\\'국회\\': '\n",
      " \"'https://www.assembly.go.kr/members/22nd/HWANGJUNGA', '네이버블로그': \"\n",
      " \"'https://blog.naver.com/k0heaven', '유튜브': \"\n",
      " \"'https://www.youtube.com/@hwangjunga2024', '이미지': \"\n",
      " \"'https://theminjoo.kr/people/connect/people/1446/profile.jpg', '인스타그램': \"\n",
      " \"'https://www.instagram.com/junga1004/'}]\")\n",
      "('* {\"소속\": \"국회의원\", \"이름\": \"황정아\", \"직책\": \"국회의원(대전, 유성구을)\", \"슬로건\": \"\"} [{\\'국회\\': '\n",
      " \"'https://www.assembly.go.kr/members/22nd/HWANGJUNGA', '네이버블로그': \"\n",
      " \"'https://blog.naver.com/k0heaven', '유튜브': \"\n",
      " \"'https://www.youtube.com/@hwangjunga2024', '이미지': \"\n",
      " \"'https://theminjoo.kr/people/connect/people/1446/profile.jpg', '인스타그램': \"\n",
      " \"'https://www.instagram.com/junga1004/'}]\")\n",
      "('* {\"type\": \"서면브리핑\", \"title\": \"[황정아 대변인] 여론조사검증제도개선특위 발족, 건강한 공론장을 위한 과제들을 '\n",
      " '추진해 나가겠습니다\", \"content\": \"황정아 대변인 서면브리핑\\\\n■\\\\n여론조사검증제도개선특위 발족, 건강한 공론장을 위한 '\n",
      " '과제들을 추진해 나가겠습니다\\\\n\\\\n여론조사는 국민의 생각을 담아내는 중요한 공적 자원입니다. 정책과 정치의 방향을 결정하는 데 '\n",
      " '활용되며, 유권자가 올바른 판단을 내릴 수 있도록 돕는 민주사회의 필수 요소입니다.\\\\n그러나 최근 여론조사의 질문 문항, 응답률과 '\n",
      " '편향성에 관한 여러 의혹과 비판이 대두되며 공론장의 신뢰가 심각하게 훼손되고 있습니다.\\\\n‘명태균 게이트’를 통해 여론조사의 취약점들이 '\n",
      " '발견되고, 여론이 왜곡되어 민주주의 시스템 자체를 위협할 수 있음이 적나라하게 밝혀졌습니다.\\\\n더불어민주당은 이러한 위협에 맞서기 위해 '\n",
      " '여론조사검증제도개선특위를 발족합니다. 여론조사의 왜곡 혹은 조작이 이뤄질 수 없도록 검증하고, 국민께 알리겠습니다. 건강한 공론장을 '\n",
      " '조성하기 위한 제도 개선 과제도 적극 추진하겠습니다.\\\\n여론을 왜곡시키는 ‘제 2의 명태균 게이트’가 발생할 수 없도록 철저하게 감시해 '\n",
      " '나가겠습니다.\\\\n2025년 1월 20일\\\\n더불어민주당 공보국\", \"date\": \"2025-01-20\"} [{\\'url\\': '\n",
      " \"'https://theminjoo.kr/main/sub/news//view.php?sno=80&brd=11&post=1209007&search='}]\")\n"
     ]
    }
   ],
   "source": [
    "results = vector_store.similarity_search(query=\"황정아\",k=3)\n",
    "print(len(results))\n",
    "for doc in results:\n",
    "    pprint(f\"* {doc.page_content} [{doc.metadata}]\")\n"
   ]
  },
  {
   "cell_type": "code",
   "execution_count": 23,
   "metadata": {},
   "outputs": [],
   "source": [
    "retriever = vector_store.as_retriever()\n",
    "\n",
    "after_rag_template = \"\"\"Refer to the content below and respond in Korean. Ensure that your response sounds natural, as if you are directly providing the answer yourself.:\n",
    "{context}\n",
    "Question: {question}\n",
    "\"\"\"\n",
    "after_rag_prompt = ChatPromptTemplate.from_template(after_rag_template)\n",
    "after_rag_chain = (\n",
    "    {\"context\": retriever, \"question\": RunnablePassthrough()}\n",
    "    | after_rag_prompt\n",
    "    | model_local\n",
    "    | StrOutputParser()\n",
    ")"
   ]
  },
  {
   "cell_type": "code",
   "execution_count": 24,
   "metadata": {},
   "outputs": [
    {
     "name": "stdout",
     "output_type": "stream",
     "text": [
      "황정아 대변인은 최근 두 가지 중요한 이슈를 언급했습니다. 첫 번째는 여론조사검증제도의 개선입니다. 그녀는 최근 여론조사가 질문 문항, 응답률 및 편향성 측면에서 여러 논란이 제기되고 있다고 지적하며, 이를 해결하기 위해 여론조사검증제도를 개선할 것을 발표했습니다. 이는 국민의 신뢰를 회복시키고 정확한 공공 의견을 반영하는 데 중요하다고 강조했습니다.\n",
      "\n",
      "두 번째로 언급된 것은 설 명절 기간 동안 발생한 내란 문제와 그에 따른 경제 및 민생 회복입니다. 황정아는 이러한 상황이 경제와 국민의 생활에 큰 부담을 주고 있다며, 이를 조기 종식하고 민생 경제를 살리겠다는 명확한 입장을 밝혔습니다. 그녀는 내란 세력들이 헌법과 법치에 대해 어긋나는 행동을 하고 있다며 비판하면서, 국민의 요구를 충족시키기 위한 책임 있는 조치가 필요하다고 강조했습니다.\n",
      "\n",
      "이 두 가지 주제 모두 황정아 대변인은 정부와 시민사회에게 즉각적인 관심과 대응을 요구하며, 국가의 안정성과 국민의 복지를 최우선으로 여기고 있다는 입장을 분명히 했습니다.\n"
     ]
    }
   ],
   "source": [
    "print(after_rag_chain.invoke(\"황정아가 최근에 얘기한거?\"))\n"
   ]
  },
  {
   "cell_type": "code",
   "execution_count": null,
   "metadata": {},
   "outputs": [],
   "source": []
  }
 ],
 "metadata": {
  "kernelspec": {
   "display_name": ".venv",
   "language": "python",
   "name": "python3"
  },
  "language_info": {
   "codemirror_mode": {
    "name": "ipython",
    "version": 3
   },
   "file_extension": ".py",
   "mimetype": "text/x-python",
   "name": "python",
   "nbconvert_exporter": "python",
   "pygments_lexer": "ipython3",
   "version": "3.11.7"
  }
 },
 "nbformat": 4,
 "nbformat_minor": 2
}
